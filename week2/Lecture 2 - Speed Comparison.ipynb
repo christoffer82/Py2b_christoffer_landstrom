{
 "cells": [
  {
   "cell_type": "code",
   "execution_count": 1,
   "metadata": {},
   "outputs": [],
   "source": [
    "import numpy as np\n"
   ]
  },
  {
   "cell_type": "code",
   "execution_count": 4,
   "metadata": {},
   "outputs": [
    {
     "name": "stdout",
     "output_type": "stream",
     "text": [
      "Add to list took: \n",
      "Wall time: 1.18 s\n",
      "Add to array took: \n",
      "Wall time: 4.7 ms\n"
     ]
    }
   ],
   "source": [
    "def add_one_list(list1):\n",
    "    for i, _ in enumerate(list1):\n",
    "        list1[i] += 1\n",
    "    # print(list1)\n",
    "\n",
    "def add_one_array(array1):\n",
    "    array1 += 1\n",
    "    \n",
    "    #print(array1)\n",
    "def main():\n",
    "    # Create a desireable large size\n",
    "    size = 10 ** 7\n",
    "\n",
    "    list1 = [i for i in range(size)]\n",
    "    array1 = np.arange(size)\n",
    "    \n",
    "    print(\"Add to list took: \")\n",
    "    %time add_one_list(list1)\n",
    "    \n",
    "    print(\"Add to array took: \")\n",
    "    %time add_one_array(array1)\n",
    "        \n",
    "main()"
   ]
  },
  {
   "cell_type": "code",
   "execution_count": null,
   "metadata": {},
   "outputs": [],
   "source": []
  }
 ],
 "metadata": {
  "kernelspec": {
   "display_name": "Python 3",
   "language": "python",
   "name": "python3"
  },
  "language_info": {
   "codemirror_mode": {
    "name": "ipython",
    "version": 3
   },
   "file_extension": ".py",
   "mimetype": "text/x-python",
   "name": "python",
   "nbconvert_exporter": "python",
   "pygments_lexer": "ipython3",
   "version": "3.8.3"
  }
 },
 "nbformat": 4,
 "nbformat_minor": 5
}

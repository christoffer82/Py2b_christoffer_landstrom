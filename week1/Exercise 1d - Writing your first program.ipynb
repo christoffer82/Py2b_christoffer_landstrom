{
 "cells": [
  {
   "cell_type": "markdown",
   "metadata": {},
   "source": [
    "# Exercise 1c - Writing your first program. "
   ]
  },
  {
   "cell_type": "markdown",
   "metadata": {},
   "source": [
    "Hello and welcome to your first practical exercise with Jupyter Notebook. Your objective is to create a program that creates a meal using a list of ingredients. \n",
    "\n",
    "\n",
    "## Step One\n",
    "\n",
    "Run the cell below to create the *ingredients* list."
   ]
  },
  {
   "cell_type": "code",
   "execution_count": 1,
   "metadata": {},
   "outputs": [],
   "source": [
    "ingredients = [\"flour\", \"egg\", \"sugar\", \"milk\", \"salt\", \"water\", \"beef\", \"chicken\", \"peppers\", \"mushroom\", \"corn\", \"kebab\", \"rice\", \"beans\", \"peas\", \"turkey\", \"potato\", \"spinach\", \"mashed potatoes\", \"noodles\", \"ketchup\", \"almonds\", \"coconut\", \"beets\", \"strawberry\", \"apple\", \"shrimp\", \"garlic\", \"cheese\", \"onion\"]"
   ]
  },
  {
   "cell_type": "markdown",
   "metadata": {},
   "source": [
    "## Step Two\n",
    "\n",
    "We can now use the list *ingredients* to create our own custom meal. Create your meal below by creating a list of strings using at least 5 ingredients. The meal does not have to be yummy. \n",
    "**Hint:** use ingredients[x] where x is an integer between 0-29 to get an ingredient. "
   ]
  },
  {
   "cell_type": "code",
   "execution_count": 13,
   "metadata": {},
   "outputs": [
    {
     "name": "stdout",
     "output_type": "stream",
     "text": [
      "['egg', 'salt', 'peppers', 'mushroom', 'onion']\n"
     ]
    }
   ],
   "source": [
    "meal = [ingredients[1], ingredients[4], ingredients[8], ingredients[9], ingredients[29]] #TODO\n",
    "print(meal)"
   ]
  },
  {
   "cell_type": "markdown",
   "metadata": {},
   "source": [
    "In the function *main* below, create a variable *meal_name*, which will represent the name of your meal. \n",
    "Then print *meal_name* and add a call to the *looper* function with your meal as an argument. We will complete the *looper* function in the next step.\n"
   ]
  },
  {
   "cell_type": "code",
   "execution_count": 23,
   "metadata": {},
   "outputs": [],
   "source": [
    "def main(): #TODO\n",
    "    meal_name=\"my meal\"\n",
    "    print(meal_name)\n",
    "    looper(meal)\n",
    "    "
   ]
  },
  {
   "cell_type": "markdown",
   "metadata": {},
   "source": [
    "## Step Three\n",
    "\n",
    "The function *looper* will take a list *meal* as an argument, loop through it and print each element in the list. \n",
    "After the loop is done, add a call to the function *print_list* and complete that function as well. *print_list* takes the list *meal* as an argument and prints the whole list."
   ]
  },
  {
   "cell_type": "code",
   "execution_count": 29,
   "metadata": {},
   "outputs": [],
   "source": [
    "def looper(meal): #TODO\n",
    "    for ingredient in meal:\n",
    "        print(ingredient)\n",
    "    print_list(meal)\n",
    "    "
   ]
  },
  {
   "cell_type": "code",
   "execution_count": 25,
   "metadata": {},
   "outputs": [],
   "source": [
    "def print_list(meal): #TODO\n",
    "    print(meal)\n",
    "    "
   ]
  },
  {
   "cell_type": "markdown",
   "metadata": {},
   "source": [
    "## Step Four\n",
    "\n",
    "Finally, call the function *main* in the cell below and see what gets printed out. If you get an error, make sure that you have run all the necessary cells in the correct order before calling the *main* function. **Hint:** The function *main* calls the function *looper* which calls the function *print_list*. Make sure you have run the cells containing those functions before calling *main*. "
   ]
  },
  {
   "cell_type": "code",
   "execution_count": 30,
   "metadata": {},
   "outputs": [
    {
     "name": "stdout",
     "output_type": "stream",
     "text": [
      "my meal\n",
      "egg\n",
      "salt\n",
      "peppers\n",
      "mushroom\n",
      "onion\n",
      "['egg', 'salt', 'peppers', 'mushroom', 'onion']\n"
     ]
    }
   ],
   "source": [
    "# TODO\n",
    "main()\n"
   ]
  },
  {
   "cell_type": "markdown",
   "metadata": {},
   "source": [
    "## When you are done:\n",
    "\n",
    "Good job on completing this exercise! You have learned how to run Python code in Jupyter Notebook and hopefully understood how running cells work. "
   ]
  }
 ],
 "metadata": {
  "kernelspec": {
   "display_name": "Python 3",
   "language": "python",
   "name": "python3"
  },
  "language_info": {
   "codemirror_mode": {
    "name": "ipython",
    "version": 3
   },
   "file_extension": ".py",
   "mimetype": "text/x-python",
   "name": "python",
   "nbconvert_exporter": "python",
   "pygments_lexer": "ipython3",
   "version": "3.8.3"
  }
 },
 "nbformat": 4,
 "nbformat_minor": 5
}
